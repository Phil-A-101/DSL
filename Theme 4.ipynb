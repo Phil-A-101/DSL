{
 "cells": [
  {
   "cell_type": "markdown",
   "metadata": {},
   "source": [
    "## **EDUCATION: ARTIFICIAL INTELLIGENCE (AI) IN HIGHER EDUCATION**"
   ]
  },
  {
   "cell_type": "markdown",
   "metadata": {},
   "source": [
    "**Dataset:**\n",
    "Yilmaz, N. & Şekeroğlu, B. (2019). Higher Education Students Performance Evaluation [Dataset]. UCI Machine Learning Repository. https://doi.org/10.24432/C51G82."
   ]
  },
  {
   "cell_type": "code",
   "execution_count": 54,
   "metadata": {},
   "outputs": [],
   "source": [
    "import pandas as pd\n",
    "import numpy as np\n",
    "import matplotlib.pyplot as plt\n",
    "import seaborn as sns\n",
    "from sklearn.model_selection import train_test_split, GridSearchCV\n",
    "from sklearn.preprocessing import StandardScaler, LabelEncoder\n",
    "from sklearn.ensemble import RandomForestClassifier\n",
    "from sklearn.linear_model import LogisticRegression\n",
    "from sklearn.svm import SVC\n",
    "from sklearn.model_selection import cross_val_score\n",
    "from sklearn.metrics import accuracy_score, classification_report, confusion_matrix"
   ]
  },
  {
   "cell_type": "code",
   "execution_count": 27,
   "metadata": {},
   "outputs": [],
   "source": [
    "df = pd.read_csv(\"higheduc.csv\")"
   ]
  },
  {
   "cell_type": "code",
   "execution_count": 28,
   "metadata": {},
   "outputs": [],
   "source": [
    "column_names = [\"Student Age\", \"Sex\", \"Graduated High School Type\", \"Scholarship Type\", \"Additional Work\", \n",
    "                \"Regular Artistic or Sports Activity\", \"Do you have a partner\", \"Total Salary\", \"Transportation\", \n",
    "                \"Accommodation Type\", \"Mother's Education\", \"Father's Education\", \"Number of Siblings\", \n",
    "                \"Parental Status\", \"Mother's Occupation\", \"Father's Occupation\", \"Weekly Study Hours\", \n",
    "                \"Reading Frequency (Non-Scientific)\", \"Reading Frequency (Scientific)\", \"Seminar Attendance\", \n",
    "                \"Project Impact\", \"Class Attendance\", \"Midterm Preparation 1\", \"Midterm Preparation 2\", \n",
    "                \"Taking Notes\", \"Listening in Classes\", \"Discussion Impact\", \"Flip-Classroom\", \n",
    "                \"CGPA Last Semester\", \"Expected CGPA\", \"Course ID\", \"Grade\"]\n",
    "df.columns = [\"Student ID\"] + column_names"
   ]
  },
  {
   "cell_type": "code",
   "execution_count": 29,
   "metadata": {},
   "outputs": [
    {
     "data": {
      "text/html": [
       "<div>\n",
       "<style scoped>\n",
       "    .dataframe tbody tr th:only-of-type {\n",
       "        vertical-align: middle;\n",
       "    }\n",
       "\n",
       "    .dataframe tbody tr th {\n",
       "        vertical-align: top;\n",
       "    }\n",
       "\n",
       "    .dataframe thead th {\n",
       "        text-align: right;\n",
       "    }\n",
       "</style>\n",
       "<table border=\"1\" class=\"dataframe\">\n",
       "  <thead>\n",
       "    <tr style=\"text-align: right;\">\n",
       "      <th></th>\n",
       "      <th>Student ID</th>\n",
       "      <th>Student Age</th>\n",
       "      <th>Sex</th>\n",
       "      <th>Graduated High School Type</th>\n",
       "      <th>Scholarship Type</th>\n",
       "      <th>Additional Work</th>\n",
       "      <th>Regular Artistic or Sports Activity</th>\n",
       "      <th>Do you have a partner</th>\n",
       "      <th>Total Salary</th>\n",
       "      <th>Transportation</th>\n",
       "      <th>...</th>\n",
       "      <th>Midterm Preparation 1</th>\n",
       "      <th>Midterm Preparation 2</th>\n",
       "      <th>Taking Notes</th>\n",
       "      <th>Listening in Classes</th>\n",
       "      <th>Discussion Impact</th>\n",
       "      <th>Flip-Classroom</th>\n",
       "      <th>CGPA Last Semester</th>\n",
       "      <th>Expected CGPA</th>\n",
       "      <th>Course ID</th>\n",
       "      <th>Grade</th>\n",
       "    </tr>\n",
       "  </thead>\n",
       "  <tbody>\n",
       "    <tr>\n",
       "      <th>0</th>\n",
       "      <td>STUDENT1</td>\n",
       "      <td>2</td>\n",
       "      <td>2</td>\n",
       "      <td>3</td>\n",
       "      <td>3</td>\n",
       "      <td>1</td>\n",
       "      <td>2</td>\n",
       "      <td>2</td>\n",
       "      <td>1</td>\n",
       "      <td>1</td>\n",
       "      <td>...</td>\n",
       "      <td>1</td>\n",
       "      <td>1</td>\n",
       "      <td>3</td>\n",
       "      <td>2</td>\n",
       "      <td>1</td>\n",
       "      <td>2</td>\n",
       "      <td>1</td>\n",
       "      <td>1</td>\n",
       "      <td>1</td>\n",
       "      <td>1</td>\n",
       "    </tr>\n",
       "    <tr>\n",
       "      <th>1</th>\n",
       "      <td>STUDENT2</td>\n",
       "      <td>2</td>\n",
       "      <td>2</td>\n",
       "      <td>3</td>\n",
       "      <td>3</td>\n",
       "      <td>1</td>\n",
       "      <td>2</td>\n",
       "      <td>2</td>\n",
       "      <td>1</td>\n",
       "      <td>1</td>\n",
       "      <td>...</td>\n",
       "      <td>1</td>\n",
       "      <td>1</td>\n",
       "      <td>3</td>\n",
       "      <td>2</td>\n",
       "      <td>3</td>\n",
       "      <td>2</td>\n",
       "      <td>2</td>\n",
       "      <td>3</td>\n",
       "      <td>1</td>\n",
       "      <td>1</td>\n",
       "    </tr>\n",
       "    <tr>\n",
       "      <th>2</th>\n",
       "      <td>STUDENT3</td>\n",
       "      <td>2</td>\n",
       "      <td>2</td>\n",
       "      <td>2</td>\n",
       "      <td>3</td>\n",
       "      <td>2</td>\n",
       "      <td>2</td>\n",
       "      <td>2</td>\n",
       "      <td>2</td>\n",
       "      <td>4</td>\n",
       "      <td>...</td>\n",
       "      <td>1</td>\n",
       "      <td>1</td>\n",
       "      <td>2</td>\n",
       "      <td>2</td>\n",
       "      <td>1</td>\n",
       "      <td>1</td>\n",
       "      <td>2</td>\n",
       "      <td>2</td>\n",
       "      <td>1</td>\n",
       "      <td>1</td>\n",
       "    </tr>\n",
       "    <tr>\n",
       "      <th>3</th>\n",
       "      <td>STUDENT4</td>\n",
       "      <td>1</td>\n",
       "      <td>1</td>\n",
       "      <td>1</td>\n",
       "      <td>3</td>\n",
       "      <td>1</td>\n",
       "      <td>2</td>\n",
       "      <td>1</td>\n",
       "      <td>2</td>\n",
       "      <td>1</td>\n",
       "      <td>...</td>\n",
       "      <td>1</td>\n",
       "      <td>2</td>\n",
       "      <td>3</td>\n",
       "      <td>2</td>\n",
       "      <td>2</td>\n",
       "      <td>1</td>\n",
       "      <td>3</td>\n",
       "      <td>2</td>\n",
       "      <td>1</td>\n",
       "      <td>1</td>\n",
       "    </tr>\n",
       "    <tr>\n",
       "      <th>4</th>\n",
       "      <td>STUDENT5</td>\n",
       "      <td>2</td>\n",
       "      <td>2</td>\n",
       "      <td>1</td>\n",
       "      <td>3</td>\n",
       "      <td>2</td>\n",
       "      <td>2</td>\n",
       "      <td>1</td>\n",
       "      <td>3</td>\n",
       "      <td>1</td>\n",
       "      <td>...</td>\n",
       "      <td>2</td>\n",
       "      <td>1</td>\n",
       "      <td>2</td>\n",
       "      <td>2</td>\n",
       "      <td>2</td>\n",
       "      <td>1</td>\n",
       "      <td>2</td>\n",
       "      <td>2</td>\n",
       "      <td>1</td>\n",
       "      <td>1</td>\n",
       "    </tr>\n",
       "  </tbody>\n",
       "</table>\n",
       "<p>5 rows × 33 columns</p>\n",
       "</div>"
      ],
      "text/plain": [
       "  Student ID  Student Age  Sex  Graduated High School Type  Scholarship Type  \\\n",
       "0   STUDENT1            2    2                           3                 3   \n",
       "1   STUDENT2            2    2                           3                 3   \n",
       "2   STUDENT3            2    2                           2                 3   \n",
       "3   STUDENT4            1    1                           1                 3   \n",
       "4   STUDENT5            2    2                           1                 3   \n",
       "\n",
       "   Additional Work  Regular Artistic or Sports Activity  \\\n",
       "0                1                                    2   \n",
       "1                1                                    2   \n",
       "2                2                                    2   \n",
       "3                1                                    2   \n",
       "4                2                                    2   \n",
       "\n",
       "   Do you have a partner  Total Salary  Transportation  ...  \\\n",
       "0                      2             1               1  ...   \n",
       "1                      2             1               1  ...   \n",
       "2                      2             2               4  ...   \n",
       "3                      1             2               1  ...   \n",
       "4                      1             3               1  ...   \n",
       "\n",
       "   Midterm Preparation 1  Midterm Preparation 2  Taking Notes  \\\n",
       "0                      1                      1             3   \n",
       "1                      1                      1             3   \n",
       "2                      1                      1             2   \n",
       "3                      1                      2             3   \n",
       "4                      2                      1             2   \n",
       "\n",
       "   Listening in Classes  Discussion Impact  Flip-Classroom  \\\n",
       "0                     2                  1               2   \n",
       "1                     2                  3               2   \n",
       "2                     2                  1               1   \n",
       "3                     2                  2               1   \n",
       "4                     2                  2               1   \n",
       "\n",
       "   CGPA Last Semester  Expected CGPA  Course ID  Grade  \n",
       "0                   1              1          1      1  \n",
       "1                   2              3          1      1  \n",
       "2                   2              2          1      1  \n",
       "3                   3              2          1      1  \n",
       "4                   2              2          1      1  \n",
       "\n",
       "[5 rows x 33 columns]"
      ]
     },
     "execution_count": 29,
     "metadata": {},
     "output_type": "execute_result"
    }
   ],
   "source": [
    "df.head()"
   ]
  },
  {
   "cell_type": "code",
   "execution_count": 30,
   "metadata": {},
   "outputs": [
    {
     "name": "stdout",
     "output_type": "stream",
     "text": [
      "<class 'pandas.core.frame.DataFrame'>\n",
      "RangeIndex: 145 entries, 0 to 144\n",
      "Data columns (total 33 columns):\n",
      " #   Column                               Non-Null Count  Dtype \n",
      "---  ------                               --------------  ----- \n",
      " 0   Student ID                           145 non-null    object\n",
      " 1   Student Age                          145 non-null    int64 \n",
      " 2   Sex                                  145 non-null    int64 \n",
      " 3   Graduated High School Type           145 non-null    int64 \n",
      " 4   Scholarship Type                     145 non-null    int64 \n",
      " 5   Additional Work                      145 non-null    int64 \n",
      " 6   Regular Artistic or Sports Activity  145 non-null    int64 \n",
      " 7   Do you have a partner                145 non-null    int64 \n",
      " 8   Total Salary                         145 non-null    int64 \n",
      " 9   Transportation                       145 non-null    int64 \n",
      " 10  Accommodation Type                   145 non-null    int64 \n",
      " 11  Mother's Education                   145 non-null    int64 \n",
      " 12  Father's Education                   145 non-null    int64 \n",
      " 13  Number of Siblings                   145 non-null    int64 \n",
      " 14  Parental Status                      145 non-null    int64 \n",
      " 15  Mother's Occupation                  145 non-null    int64 \n",
      " 16  Father's Occupation                  145 non-null    int64 \n",
      " 17  Weekly Study Hours                   145 non-null    int64 \n",
      " 18  Reading Frequency (Non-Scientific)   145 non-null    int64 \n",
      " 19  Reading Frequency (Scientific)       145 non-null    int64 \n",
      " 20  Seminar Attendance                   145 non-null    int64 \n",
      " 21  Project Impact                       145 non-null    int64 \n",
      " 22  Class Attendance                     145 non-null    int64 \n",
      " 23  Midterm Preparation 1                145 non-null    int64 \n",
      " 24  Midterm Preparation 2                145 non-null    int64 \n",
      " 25  Taking Notes                         145 non-null    int64 \n",
      " 26  Listening in Classes                 145 non-null    int64 \n",
      " 27  Discussion Impact                    145 non-null    int64 \n",
      " 28  Flip-Classroom                       145 non-null    int64 \n",
      " 29  CGPA Last Semester                   145 non-null    int64 \n",
      " 30  Expected CGPA                        145 non-null    int64 \n",
      " 31  Course ID                            145 non-null    int64 \n",
      " 32  Grade                                145 non-null    int64 \n",
      "dtypes: int64(32), object(1)\n",
      "memory usage: 37.5+ KB\n"
     ]
    }
   ],
   "source": [
    "df.info()"
   ]
  },
  {
   "cell_type": "code",
   "execution_count": 31,
   "metadata": {},
   "outputs": [
    {
     "data": {
      "text/plain": [
       "Student ID                             0\n",
       "Student Age                            0\n",
       "Sex                                    0\n",
       "Graduated High School Type             0\n",
       "Scholarship Type                       0\n",
       "Additional Work                        0\n",
       "Regular Artistic or Sports Activity    0\n",
       "Do you have a partner                  0\n",
       "Total Salary                           0\n",
       "Transportation                         0\n",
       "Accommodation Type                     0\n",
       "Mother's Education                     0\n",
       "Father's Education                     0\n",
       "Number of Siblings                     0\n",
       "Parental Status                        0\n",
       "Mother's Occupation                    0\n",
       "Father's Occupation                    0\n",
       "Weekly Study Hours                     0\n",
       "Reading Frequency (Non-Scientific)     0\n",
       "Reading Frequency (Scientific)         0\n",
       "Seminar Attendance                     0\n",
       "Project Impact                         0\n",
       "Class Attendance                       0\n",
       "Midterm Preparation 1                  0\n",
       "Midterm Preparation 2                  0\n",
       "Taking Notes                           0\n",
       "Listening in Classes                   0\n",
       "Discussion Impact                      0\n",
       "Flip-Classroom                         0\n",
       "CGPA Last Semester                     0\n",
       "Expected CGPA                          0\n",
       "Course ID                              0\n",
       "Grade                                  0\n",
       "dtype: int64"
      ]
     },
     "execution_count": 31,
     "metadata": {},
     "output_type": "execute_result"
    }
   ],
   "source": [
    "df.isnull().sum()"
   ]
  },
  {
   "cell_type": "code",
   "execution_count": 32,
   "metadata": {},
   "outputs": [
    {
     "name": "stdout",
     "output_type": "stream",
     "text": [
      "\n",
      "Visualization DataFrame Sample:\n"
     ]
    },
    {
     "data": {
      "text/html": [
       "<div>\n",
       "<style scoped>\n",
       "    .dataframe tbody tr th:only-of-type {\n",
       "        vertical-align: middle;\n",
       "    }\n",
       "\n",
       "    .dataframe tbody tr th {\n",
       "        vertical-align: top;\n",
       "    }\n",
       "\n",
       "    .dataframe thead th {\n",
       "        text-align: right;\n",
       "    }\n",
       "</style>\n",
       "<table border=\"1\" class=\"dataframe\">\n",
       "  <thead>\n",
       "    <tr style=\"text-align: right;\">\n",
       "      <th></th>\n",
       "      <th>Student ID</th>\n",
       "      <th>Student Age</th>\n",
       "      <th>Sex</th>\n",
       "      <th>Graduated High School Type</th>\n",
       "      <th>Scholarship Type</th>\n",
       "      <th>Additional Work</th>\n",
       "      <th>Regular Artistic or Sports Activity</th>\n",
       "      <th>Do you have a partner</th>\n",
       "      <th>Total Salary</th>\n",
       "      <th>Transportation</th>\n",
       "      <th>...</th>\n",
       "      <th>Midterm Preparation 1</th>\n",
       "      <th>Midterm Preparation 2</th>\n",
       "      <th>Taking Notes</th>\n",
       "      <th>Listening in Classes</th>\n",
       "      <th>Discussion Impact</th>\n",
       "      <th>Flip-Classroom</th>\n",
       "      <th>CGPA Last Semester</th>\n",
       "      <th>Expected CGPA</th>\n",
       "      <th>Course ID</th>\n",
       "      <th>Grade</th>\n",
       "    </tr>\n",
       "  </thead>\n",
       "  <tbody>\n",
       "    <tr>\n",
       "      <th>0</th>\n",
       "      <td>STUDENT1</td>\n",
       "      <td>22-25</td>\n",
       "      <td>male</td>\n",
       "      <td>other</td>\n",
       "      <td>50%</td>\n",
       "      <td>Yes</td>\n",
       "      <td>No</td>\n",
       "      <td>No</td>\n",
       "      <td>USD 135-200</td>\n",
       "      <td>Bus</td>\n",
       "      <td>...</td>\n",
       "      <td>alone</td>\n",
       "      <td>closest date to the exam</td>\n",
       "      <td>always</td>\n",
       "      <td>sometimes</td>\n",
       "      <td>never</td>\n",
       "      <td>useful</td>\n",
       "      <td>&lt;2.00</td>\n",
       "      <td>&lt;2.00</td>\n",
       "      <td>1</td>\n",
       "      <td>DD</td>\n",
       "    </tr>\n",
       "    <tr>\n",
       "      <th>1</th>\n",
       "      <td>STUDENT2</td>\n",
       "      <td>22-25</td>\n",
       "      <td>male</td>\n",
       "      <td>other</td>\n",
       "      <td>50%</td>\n",
       "      <td>Yes</td>\n",
       "      <td>No</td>\n",
       "      <td>No</td>\n",
       "      <td>USD 135-200</td>\n",
       "      <td>Bus</td>\n",
       "      <td>...</td>\n",
       "      <td>alone</td>\n",
       "      <td>closest date to the exam</td>\n",
       "      <td>always</td>\n",
       "      <td>sometimes</td>\n",
       "      <td>always</td>\n",
       "      <td>useful</td>\n",
       "      <td>2.00-2.49</td>\n",
       "      <td>2.50-2.99</td>\n",
       "      <td>1</td>\n",
       "      <td>DD</td>\n",
       "    </tr>\n",
       "    <tr>\n",
       "      <th>2</th>\n",
       "      <td>STUDENT3</td>\n",
       "      <td>22-25</td>\n",
       "      <td>male</td>\n",
       "      <td>state</td>\n",
       "      <td>50%</td>\n",
       "      <td>No</td>\n",
       "      <td>No</td>\n",
       "      <td>No</td>\n",
       "      <td>USD 201-270</td>\n",
       "      <td>Other</td>\n",
       "      <td>...</td>\n",
       "      <td>alone</td>\n",
       "      <td>closest date to the exam</td>\n",
       "      <td>sometimes</td>\n",
       "      <td>sometimes</td>\n",
       "      <td>never</td>\n",
       "      <td>not useful</td>\n",
       "      <td>2.00-2.49</td>\n",
       "      <td>2.00-2.49</td>\n",
       "      <td>1</td>\n",
       "      <td>DD</td>\n",
       "    </tr>\n",
       "    <tr>\n",
       "      <th>3</th>\n",
       "      <td>STUDENT4</td>\n",
       "      <td>18-21</td>\n",
       "      <td>female</td>\n",
       "      <td>private</td>\n",
       "      <td>50%</td>\n",
       "      <td>Yes</td>\n",
       "      <td>No</td>\n",
       "      <td>Yes</td>\n",
       "      <td>USD 201-270</td>\n",
       "      <td>Bus</td>\n",
       "      <td>...</td>\n",
       "      <td>alone</td>\n",
       "      <td>regularly during the semester</td>\n",
       "      <td>always</td>\n",
       "      <td>sometimes</td>\n",
       "      <td>sometimes</td>\n",
       "      <td>not useful</td>\n",
       "      <td>2.50-2.99</td>\n",
       "      <td>2.00-2.49</td>\n",
       "      <td>1</td>\n",
       "      <td>DD</td>\n",
       "    </tr>\n",
       "    <tr>\n",
       "      <th>4</th>\n",
       "      <td>STUDENT5</td>\n",
       "      <td>22-25</td>\n",
       "      <td>male</td>\n",
       "      <td>private</td>\n",
       "      <td>50%</td>\n",
       "      <td>No</td>\n",
       "      <td>No</td>\n",
       "      <td>Yes</td>\n",
       "      <td>USD 271-340</td>\n",
       "      <td>Bus</td>\n",
       "      <td>...</td>\n",
       "      <td>with friends</td>\n",
       "      <td>closest date to the exam</td>\n",
       "      <td>sometimes</td>\n",
       "      <td>sometimes</td>\n",
       "      <td>sometimes</td>\n",
       "      <td>not useful</td>\n",
       "      <td>2.00-2.49</td>\n",
       "      <td>2.00-2.49</td>\n",
       "      <td>1</td>\n",
       "      <td>DD</td>\n",
       "    </tr>\n",
       "  </tbody>\n",
       "</table>\n",
       "<p>5 rows × 33 columns</p>\n",
       "</div>"
      ],
      "text/plain": [
       "  Student ID Student Age     Sex Graduated High School Type Scholarship Type  \\\n",
       "0   STUDENT1       22-25    male                      other              50%   \n",
       "1   STUDENT2       22-25    male                      other              50%   \n",
       "2   STUDENT3       22-25    male                      state              50%   \n",
       "3   STUDENT4       18-21  female                    private              50%   \n",
       "4   STUDENT5       22-25    male                    private              50%   \n",
       "\n",
       "  Additional Work Regular Artistic or Sports Activity Do you have a partner  \\\n",
       "0             Yes                                  No                    No   \n",
       "1             Yes                                  No                    No   \n",
       "2              No                                  No                    No   \n",
       "3             Yes                                  No                   Yes   \n",
       "4              No                                  No                   Yes   \n",
       "\n",
       "  Total Salary Transportation  ... Midterm Preparation 1  \\\n",
       "0  USD 135-200            Bus  ...                 alone   \n",
       "1  USD 135-200            Bus  ...                 alone   \n",
       "2  USD 201-270          Other  ...                 alone   \n",
       "3  USD 201-270            Bus  ...                 alone   \n",
       "4  USD 271-340            Bus  ...          with friends   \n",
       "\n",
       "           Midterm Preparation 2 Taking Notes Listening in Classes  \\\n",
       "0       closest date to the exam       always            sometimes   \n",
       "1       closest date to the exam       always            sometimes   \n",
       "2       closest date to the exam    sometimes            sometimes   \n",
       "3  regularly during the semester       always            sometimes   \n",
       "4       closest date to the exam    sometimes            sometimes   \n",
       "\n",
       "  Discussion Impact Flip-Classroom CGPA Last Semester Expected CGPA Course ID  \\\n",
       "0             never         useful              <2.00         <2.00         1   \n",
       "1            always         useful          2.00-2.49     2.50-2.99         1   \n",
       "2             never     not useful          2.00-2.49     2.00-2.49         1   \n",
       "3         sometimes     not useful          2.50-2.99     2.00-2.49         1   \n",
       "4         sometimes     not useful          2.00-2.49     2.00-2.49         1   \n",
       "\n",
       "  Grade  \n",
       "0    DD  \n",
       "1    DD  \n",
       "2    DD  \n",
       "3    DD  \n",
       "4    DD  \n",
       "\n",
       "[5 rows x 33 columns]"
      ]
     },
     "execution_count": 32,
     "metadata": {},
     "output_type": "execute_result"
    }
   ],
   "source": [
    "df_viz = df.copy()\n",
    "\n",
    "# Define the mapping dictionary based on the provided class labels\n",
    "column_mappings = {\n",
    "    \"Student Age\": {\n",
    "        1: \"18-21\",\n",
    "        2: \"22-25\",\n",
    "        3: \"above 26\"\n",
    "    },\n",
    "    \"Sex\": {\n",
    "        1: \"female\",\n",
    "        2: \"male\"\n",
    "    },\n",
    "    \"Graduated High School Type\": {\n",
    "        1: \"private\",\n",
    "        2: \"state\",\n",
    "        3: \"other\"\n",
    "    },\n",
    "    \"Scholarship Type\": {\n",
    "        1: \"None\",\n",
    "        2: \"25%\",\n",
    "        3: \"50%\",\n",
    "        4: \"75%\",\n",
    "        5: \"Full\"\n",
    "    },\n",
    "    \"Additional Work\": {\n",
    "        1: \"Yes\",\n",
    "        2: \"No\"\n",
    "    },\n",
    "    \"Regular Artistic or Sports Activity\": {\n",
    "        1: \"Yes\",\n",
    "        2: \"No\"\n",
    "    },\n",
    "    \"Do you have a partner\": {\n",
    "        1: \"Yes\",\n",
    "        2: \"No\"\n",
    "    },\n",
    "    \"Total Salary\": {\n",
    "        1: \"USD 135-200\",\n",
    "        2: \"USD 201-270\",\n",
    "        3: \"USD 271-340\",\n",
    "        4: \"USD 341-410\",\n",
    "        5: \"above 410\"\n",
    "    },\n",
    "    \"Transportation\": {\n",
    "        1: \"Bus\",\n",
    "        2: \"Private car/taxi\",\n",
    "        3: \"bicycle\",\n",
    "        4: \"Other\"\n",
    "    },\n",
    "    \"Accommodation Type\": {\n",
    "        1: \"rental\",\n",
    "        2: \"dormitory\",\n",
    "        3: \"with family\",\n",
    "        4: \"Other\"\n",
    "    },\n",
    "    \"Mother's Education\": {\n",
    "        1: \"primary school\",\n",
    "        2: \"secondary school\",\n",
    "        3: \"high school\",\n",
    "        4: \"university\",\n",
    "        5: \"MSc.\",\n",
    "        6: \"Ph.D.\"\n",
    "    },\n",
    "    \"Father's Education\": {\n",
    "        1: \"primary school\",\n",
    "        2: \"secondary school\",\n",
    "        3: \"high school\",\n",
    "        4: \"university\",\n",
    "        5: \"MSc.\",\n",
    "        6: \"Ph.D.\"\n",
    "    },\n",
    "    \"Number of Siblings\": {\n",
    "        1: \"1\",\n",
    "        2: \"2\",\n",
    "        3: \"3\",\n",
    "        4: \"4\",\n",
    "        5: \"5 or above\"\n",
    "    },\n",
    "    \"Parental Status\": {\n",
    "        1: \"married\",\n",
    "        2: \"divorced\",\n",
    "        3: \"died - one of them or both\"\n",
    "    },\n",
    "    \"Mother's Occupation\": {\n",
    "        1: \"retired\",\n",
    "        2: \"housewife\",\n",
    "        3: \"government officer\",\n",
    "        4: \"private sector employee\",\n",
    "        5: \"self-employment\",\n",
    "        6: \"other\"\n",
    "    },\n",
    "    \"Father's Occupation\": {\n",
    "        1: \"retired\",\n",
    "        2: \"government officer\",\n",
    "        3: \"private sector employee\",\n",
    "        4: \"self-employment\",\n",
    "        5: \"other\"\n",
    "    },\n",
    "    \"Weekly Study Hours\": {\n",
    "        1: \"None\",\n",
    "        2: \"<5 hours\",\n",
    "        3: \"6-10 hours\",\n",
    "        4: \"11-20 hours\",\n",
    "        5: \"more than 20 hours\"\n",
    "    },\n",
    "    \"Reading Frequency (Non-Scientific)\": {\n",
    "        1: \"None\",\n",
    "        2: \"Sometimes\",\n",
    "        3: \"Often\"\n",
    "    },\n",
    "    \"Reading Frequency (Scientific)\": {\n",
    "        1: \"None\",\n",
    "        2: \"Sometimes\",\n",
    "        3: \"Often\"\n",
    "    },\n",
    "    \"Seminar Attendance\": {\n",
    "        1: \"Yes\",\n",
    "        2: \"No\"\n",
    "    },\n",
    "    \"Project Impact\": {\n",
    "        1: \"positive\",\n",
    "        2: \"negative\",\n",
    "        3: \"neutral\"\n",
    "    },\n",
    "    \"Class Attendance\": {\n",
    "        1: \"always\",\n",
    "        2: \"sometimes\",\n",
    "        3: \"never\"\n",
    "    },\n",
    "    \"Midterm Preparation 1\": {\n",
    "        1: \"alone\",\n",
    "        2: \"with friends\",\n",
    "        3: \"not applicable\"\n",
    "    },\n",
    "    \"Midterm Preparation 2\": {\n",
    "        1: \"closest date to the exam\",\n",
    "        2: \"regularly during the semester\",\n",
    "        3: \"never\"\n",
    "    },\n",
    "    \"Taking Notes\": {\n",
    "        1: \"never\",\n",
    "        2: \"sometimes\",\n",
    "        3: \"always\"\n",
    "    },\n",
    "    \"Listening in Classes\": {\n",
    "        1: \"never\",\n",
    "        2: \"sometimes\",\n",
    "        3: \"always\"\n",
    "    },\n",
    "    \"Discussion Impact\": {\n",
    "        1: \"never\",\n",
    "        2: \"sometimes\",\n",
    "        3: \"always\"\n",
    "    },\n",
    "    \"Flip-Classroom\": {\n",
    "        1: \"not useful\",\n",
    "        2: \"useful\",\n",
    "        3: \"not applicable\"\n",
    "    },\n",
    "    \"CGPA Last Semester\": {\n",
    "        1: \"<2.00\",\n",
    "        2: \"2.00-2.49\",\n",
    "        3: \"2.50-2.99\",\n",
    "        4: \"3.00-3.49\",\n",
    "        5: \"above 3.49\"\n",
    "    },\n",
    "    \"Expected CGPA\": {\n",
    "        1: \"<2.00\",\n",
    "        2: \"2.00-2.49\",\n",
    "        3: \"2.50-2.99\",\n",
    "        4: \"3.00-3.49\",\n",
    "        5: \"above 3.49\"\n",
    "    },\n",
    "    \"Grade\": {\n",
    "        0: \"Fail\",\n",
    "        1: \"DD\",\n",
    "        2: \"DC\",\n",
    "        3: \"CC\",\n",
    "        4: \"CB\",\n",
    "        5: \"BB\",\n",
    "        6: \"BA\",\n",
    "        7: \"AA\"\n",
    "    }\n",
    "}\n",
    "\n",
    "# Apply mappings to each column in df_viz\n",
    "for col, mapping in column_mappings.items():\n",
    "    if col in df_viz.columns:\n",
    "        df_viz[col] = df_viz[col].map(mapping).astype(\"category\")\n",
    "    else:\n",
    "        print(f\"Column '{col}' not found in DataFrame. Skipping...\")\n",
    "\n",
    "# Verify the transformed DataFrame\n",
    "print(\"\\nVisualization DataFrame Sample:\")\n",
    "df_viz.head()"
   ]
  },
  {
   "cell_type": "code",
   "execution_count": null,
   "metadata": {},
   "outputs": [
    {
     "name": "stderr",
     "output_type": "stream",
     "text": [
      "C:\\Users\\Aircom\\AppData\\Local\\Temp\\ipykernel_27720\\4253782669.py:2: FutureWarning: \n",
      "\n",
      "Passing `palette` without assigning `hue` is deprecated and will be removed in v0.14.0. Assign the `x` variable to `hue` and set `legend=False` for the same effect.\n",
      "\n",
      "  sns.countplot(data=df_viz, x=\"Grade\", palette=\"viridis\", order=[\"Fail\", \"DD\", \"DC\", \"CC\", \"CB\", \"BB\", \"BA\", \"AA\"])\n"
     ]
    },
    {
     "data": {
      "image/png": "[encoded data removed]",
      "text/plain": [
       "<Figure size 1000x500 with 1 Axes>"
      ]
     },
     "metadata": {},
     "output_type": "display_data"
    }
   ],
   "source": [
    "plt.figure(figsize=(10, 5))\n",
    "sns.countplot(data=df_viz, x=\"Cum\", palette=\"viridis\", order=[\"Fail\", \"DD\", \"DC\", \"CC\", \"CB\", \"BB\", \"BA\", \"AA\"])\n",
    "plt.title(\"Distribution of Student Grades\")\n",
    "plt.xlabel(\"Grade\")\n",
    "plt.ylabel(\"Count\")\n",
    "plt.show()"
   ]
  },
  {
   "cell_type": "code",
   "execution_count": 34,
   "metadata": {},
   "outputs": [
    {
     "name": "stderr",
     "output_type": "stream",
     "text": [
      "C:\\Users\\Aircom\\AppData\\Local\\Temp\\ipykernel_27720\\1576313355.py:2: FutureWarning: \n",
      "\n",
      "Passing `palette` without assigning `hue` is deprecated and will be removed in v0.14.0. Assign the `x` variable to `hue` and set `legend=False` for the same effect.\n",
      "\n",
      "  sns.boxplot(data=df_viz, x=\"Student Age\", y=\"Grade\", palette=\"Set2\")\n"
     ]
    },
    {
     "data": {
      "image/png": "[encoded data removed]",
      "text/plain": [
       "<Figure size 1000x600 with 1 Axes>"
      ]
     },
     "metadata": {},
     "output_type": "display_data"
    }
   ],
   "source": [
    "plt.figure(figsize=(10, 6))\n",
    "sns.boxplot(data=df_viz, x=\"Student Age\", y=\"Grade\", palette=\"Set2\")\n",
    "plt.title(\"Grade Distribution by Age Group\")\n",
    "plt.xlabel(\"Age Group\")\n",
    "plt.ylabel(\"Grade\")\n",
    "plt.show()"
   ]
  },
  {
   "cell_type": "code",
   "execution_count": 35,
   "metadata": {},
   "outputs": [
    {
     "data": {
      "image/png": "[encoded data removed]",
      "text/plain": [
       "<Figure size 800x500 with 1 Axes>"
      ]
     },
     "metadata": {},
     "output_type": "display_data"
    }
   ],
   "source": [
    "plt.figure(figsize=(8, 5))\n",
    "sns.countplot(data=df_viz, x=\"Grade\", hue=\"Sex\", palette=\"coolwarm\")\n",
    "plt.title(\"Grade Distribution by Gender\")\n",
    "plt.xlabel(\"Grade\")\n",
    "plt.ylabel(\"Count\")\n",
    "plt.legend(title=\"Sex\")\n",
    "plt.show()"
   ]
  },
  {
   "cell_type": "code",
   "execution_count": 36,
   "metadata": {},
   "outputs": [
    {
     "name": "stderr",
     "output_type": "stream",
     "text": [
      "C:\\Users\\Aircom\\AppData\\Local\\Temp\\ipykernel_27720\\3806802758.py:2: FutureWarning: \n",
      "\n",
      "Passing `palette` without assigning `hue` is deprecated and will be removed in v0.14.0. Assign the `x` variable to `hue` and set `legend=False` for the same effect.\n",
      "\n",
      "  sns.boxplot(\n"
     ]
    },
    {
     "data": {
      "image/png": "[encoded data removed]",
      "text/plain": [
       "<Figure size 1000x600 with 1 Axes>"
      ]
     },
     "metadata": {},
     "output_type": "display_data"
    }
   ],
   "source": [
    "plt.figure(figsize=(10, 6))\n",
    "sns.boxplot(\n",
    "    data=df_viz,\n",
    "    x=\"Scholarship Type\",\n",
    "    y=\"Grade\",\n",
    "    order=[\"None\", \"25%\", \"50%\", \"75%\", \"Full\"],\n",
    "    palette=\"mako\"\n",
    ")\n",
    "plt.title(\"Scholarship Type vs. Grade\")\n",
    "plt.xlabel(\"Scholarship Type\")\n",
    "plt.ylabel(\"Grade\")\n",
    "plt.xticks(rotation=45)\n",
    "plt.show()"
   ]
  },
  {
   "cell_type": "code",
   "execution_count": 37,
   "metadata": {},
   "outputs": [
    {
     "name": "stderr",
     "output_type": "stream",
     "text": [
      "C:\\Users\\Aircom\\AppData\\Local\\Temp\\ipykernel_27720\\2428217795.py:3: FutureWarning: \n",
      "\n",
      "Passing `palette` without assigning `hue` is deprecated and will be removed in v0.14.0. Assign the `x` variable to `hue` and set `legend=False` for the same effect.\n",
      "\n",
      "  sns.boxplot(x=df_viz['Weekly Study Hours'], y=df_viz['Grade'], palette=\"coolwarm\", order=study_hours_order)\n"
     ]
    },
    {
     "data": {
      "image/png": "[encoded data removed]",
      "text/plain": [
       "<Figure size 1000x500 with 1 Axes>"
      ]
     },
     "metadata": {},
     "output_type": "display_data"
    }
   ],
   "source": [
    "plt.figure(figsize=(10, 5))\n",
    "study_hours_order = [\"None\", \"<5 hours\", \"6-10 hours\", \"11-20 hours\", \"more than 20 hours\"]\n",
    "sns.boxplot(x=df_viz['Weekly Study Hours'], y=df_viz['Grade'], palette=\"coolwarm\", order=study_hours_order)\n",
    "plt.title(\"Impact of Weekly Study Hours on Grade\")\n",
    "plt.xlabel(\"Weekly Study Hours\")\n",
    "plt.ylabel(\"Grade\")\n",
    "plt.show()"
   ]
  },
  {
   "cell_type": "code",
   "execution_count": 38,
   "metadata": {},
   "outputs": [
    {
     "name": "stderr",
     "output_type": "stream",
     "text": [
      "C:\\Users\\Aircom\\AppData\\Local\\Temp\\ipykernel_27720\\1146552044.py:2: FutureWarning: \n",
      "\n",
      "Passing `palette` without assigning `hue` is deprecated and will be removed in v0.14.0. Assign the `x` variable to `hue` and set `legend=False` for the same effect.\n",
      "\n",
      "  sns.boxplot(x=df_viz['Class Attendance'], y=df_viz['Grade'], palette=\"magma\")\n"
     ]
    },
    {
     "data": {
      "image/png": "[encoded data removed]",
      "text/plain": [
       "<Figure size 1000x500 with 1 Axes>"
      ]
     },
     "metadata": {},
     "output_type": "display_data"
    }
   ],
   "source": [
    "plt.figure(figsize=(10, 5))\n",
    "sns.boxplot(x=df_viz['Class Attendance'], y=df_viz['Grade'], palette=\"magma\")\n",
    "plt.title(\"Impact of Class Attendance on Grade\")\n",
    "plt.xlabel(\"Class Attendance\")\n",
    "plt.ylabel(\"Grade\")\n",
    "plt.show()"
   ]
  },
  {
   "cell_type": "code",
   "execution_count": 39,
   "metadata": {},
   "outputs": [],
   "source": [
    "label_encoders = {}\n",
    "for col in df.select_dtypes(include=['object']).columns:\n",
    "    le = LabelEncoder()\n",
    "    df[col] = le.fit_transform(df[col])\n",
    "    label_encoders[col] = le"
   ]
  },
  {
   "cell_type": "markdown",
   "metadata": {},
   "source": [
    "Generation of Machine Learning Models"
   ]
  },
  {
   "cell_type": "code",
   "execution_count": null,
   "metadata": {},
   "outputs": [],
   "source": [
    "X = df.drop(columns=[\"Grade\", \"Student ID\", \"Course ID\"])  \n",
    "y = df[\"Grade\"]"
   ]
  },
  {
   "cell_type": "code",
   "execution_count": 41,
   "metadata": {},
   "outputs": [],
   "source": [
    "X_train, X_test, y_train, y_test = train_test_split(X, y, test_size=0.2, random_state=42, stratify=y)"
   ]
  },
  {
   "cell_type": "markdown",
   "metadata": {},
   "source": [
    "Scaling of the data"
   ]
  },
  {
   "cell_type": "code",
   "execution_count": 42,
   "metadata": {},
   "outputs": [],
   "source": [
    "scaler = StandardScaler()\n",
    "X_train = scaler.fit_transform(X_train)\n",
    "X_test = scaler.transform(X_test)"
   ]
  },
  {
   "cell_type": "markdown",
   "metadata": {},
   "source": [
    "Logistic Regression model"
   ]
  },
  {
   "cell_type": "code",
   "execution_count": 43,
   "metadata": {},
   "outputs": [
    {
     "name": "stdout",
     "output_type": "stream",
     "text": [
      "Logistic Regression Accuracy: 0.2069\n"
     ]
    }
   ],
   "source": [
    "log_reg = LogisticRegression(max_iter=500)\n",
    "log_reg.fit(X_train, y_train)\n",
    "y_pred_log = log_reg.predict(X_test)\n",
    "print(f\"Logistic Regression Accuracy: {accuracy_score(y_test, y_pred_log):.4f}\")"
   ]
  },
  {
   "cell_type": "markdown",
   "metadata": {},
   "source": [
    "Support Vector Machine Model"
   ]
  },
  {
   "cell_type": "code",
   "execution_count": 44,
   "metadata": {},
   "outputs": [
    {
     "name": "stdout",
     "output_type": "stream",
     "text": [
      "SVM Accuracy: 0.2069\n"
     ]
    }
   ],
   "source": [
    "svm_model = SVC(kernel='linear')\n",
    "svm_model.fit(X_train, y_train)\n",
    "y_pred_svm = svm_model.predict(X_test)\n",
    "print(f\"SVM Accuracy: {accuracy_score(y_test, y_pred_svm):.4f}\")"
   ]
  },
  {
   "cell_type": "markdown",
   "metadata": {},
   "source": [
    "Random forest model"
   ]
  },
  {
   "cell_type": "code",
   "execution_count": 45,
   "metadata": {},
   "outputs": [
    {
     "name": "stdout",
     "output_type": "stream",
     "text": [
      "Random Forest Accuracy: 0.1724\n"
     ]
    }
   ],
   "source": [
    "rf_model = RandomForestClassifier(n_estimators=100, random_state=42)\n",
    "rf_model.fit(X_train, y_train)\n",
    "y_pred_rf = rf_model.predict(X_test)\n",
    "print(f\"Random Forest Accuracy: {accuracy_score(y_test, y_pred_rf):.4f}\")"
   ]
  },
  {
   "cell_type": "code",
   "execution_count": 46,
   "metadata": {},
   "outputs": [
    {
     "name": "stdout",
     "output_type": "stream",
     "text": [
      "Best Model: Logistic Regression\n"
     ]
    }
   ],
   "source": [
    "models = {\"Logistic Regression\": y_pred_log, \"SVM\": y_pred_svm, \"Random Forest\": y_pred_rf}\n",
    "best_model = max(models, key=lambda model: accuracy_score(y_test, models[model]))\n",
    "print(f\"Best Model: {best_model}\")"
   ]
  },
  {
   "cell_type": "code",
   "execution_count": 47,
   "metadata": {},
   "outputs": [
    {
     "data": {
      "image/png": "[encoded data removed]",
      "text/plain": [
       "<Figure size 600x400 with 2 Axes>"
      ]
     },
     "metadata": {},
     "output_type": "display_data"
    }
   ],
   "source": [
    "best_preds = models[best_model]\n",
    "plt.figure(figsize=(6, 4))\n",
    "sns.heatmap(confusion_matrix(y_test, best_preds), annot=True, fmt='d', cmap='Blues')\n",
    "plt.xlabel('Predicted')\n",
    "plt.ylabel('Actual')\n",
    "plt.title(f'Confusion Matrix for {best_model}')\n",
    "plt.show()\n"
   ]
  },
  {
   "cell_type": "code",
   "execution_count": 48,
   "metadata": {},
   "outputs": [
    {
     "name": "stdout",
     "output_type": "stream",
     "text": [
      "              precision    recall  f1-score   support\n",
      "\n",
      "           0       0.50      0.50      0.50         2\n",
      "           1       0.20      0.14      0.17         7\n",
      "           2       0.43      0.60      0.50         5\n",
      "           3       0.00      0.00      0.00         4\n",
      "           4       0.00      0.00      0.00         2\n",
      "           5       0.00      0.00      0.00         3\n",
      "           6       0.25      0.33      0.29         3\n",
      "           7       0.00      0.00      0.00         3\n",
      "\n",
      "    accuracy                           0.21        29\n",
      "   macro avg       0.17      0.20      0.18        29\n",
      "weighted avg       0.18      0.21      0.19        29\n",
      "\n"
     ]
    }
   ],
   "source": [
    "print(classification_report(y_test, best_preds))"
   ]
  },
  {
   "cell_type": "code",
   "execution_count": 52,
   "metadata": {},
   "outputs": [],
   "source": [
    "models = {'Logistic Regression': LogisticRegression(),\n",
    "          'Random Forest Classifier': RandomForestClassifier(),\n",
    "          'Support Vector Machine': SVC()}"
   ]
  },
  {
   "cell_type": "code",
   "execution_count": 55,
   "metadata": {},
   "outputs": [
    {
     "name": "stderr",
     "output_type": "stream",
     "text": [
      "c:\\Users\\Aircom\\AppData\\Local\\Programs\\Python\\Python312\\Lib\\site-packages\\sklearn\\linear_model\\_logistic.py:469: ConvergenceWarning: lbfgs failed to converge (status=1):\n",
      "STOP: TOTAL NO. of ITERATIONS REACHED LIMIT.\n",
      "\n",
      "Increase the number of iterations (max_iter) or scale the data as shown in:\n",
      "    https://scikit-learn.org/stable/modules/preprocessing.html\n",
      "Please also refer to the documentation for alternative solver options:\n",
      "    https://scikit-learn.org/stable/modules/linear_model.html#logistic-regression\n",
      "  n_iter_i = _check_optimize_result(\n",
      "c:\\Users\\Aircom\\AppData\\Local\\Programs\\Python\\Python312\\Lib\\site-packages\\sklearn\\linear_model\\_logistic.py:469: ConvergenceWarning: lbfgs failed to converge (status=1):\n",
      "STOP: TOTAL NO. of ITERATIONS REACHED LIMIT.\n",
      "\n",
      "Increase the number of iterations (max_iter) or scale the data as shown in:\n",
      "    https://scikit-learn.org/stable/modules/preprocessing.html\n",
      "Please also refer to the documentation for alternative solver options:\n",
      "    https://scikit-learn.org/stable/modules/linear_model.html#logistic-regression\n",
      "  n_iter_i = _check_optimize_result(\n",
      "c:\\Users\\Aircom\\AppData\\Local\\Programs\\Python\\Python312\\Lib\\site-packages\\sklearn\\linear_model\\_logistic.py:469: ConvergenceWarning: lbfgs failed to converge (status=1):\n",
      "STOP: TOTAL NO. of ITERATIONS REACHED LIMIT.\n",
      "\n",
      "Increase the number of iterations (max_iter) or scale the data as shown in:\n",
      "    https://scikit-learn.org/stable/modules/preprocessing.html\n",
      "Please also refer to the documentation for alternative solver options:\n",
      "    https://scikit-learn.org/stable/modules/linear_model.html#logistic-regression\n",
      "  n_iter_i = _check_optimize_result(\n",
      "c:\\Users\\Aircom\\AppData\\Local\\Programs\\Python\\Python312\\Lib\\site-packages\\sklearn\\linear_model\\_logistic.py:469: ConvergenceWarning: lbfgs failed to converge (status=1):\n",
      "STOP: TOTAL NO. of ITERATIONS REACHED LIMIT.\n",
      "\n",
      "Increase the number of iterations (max_iter) or scale the data as shown in:\n",
      "    https://scikit-learn.org/stable/modules/preprocessing.html\n",
      "Please also refer to the documentation for alternative solver options:\n",
      "    https://scikit-learn.org/stable/modules/linear_model.html#logistic-regression\n",
      "  n_iter_i = _check_optimize_result(\n",
      "c:\\Users\\Aircom\\AppData\\Local\\Programs\\Python\\Python312\\Lib\\site-packages\\sklearn\\linear_model\\_logistic.py:469: ConvergenceWarning: lbfgs failed to converge (status=1):\n",
      "STOP: TOTAL NO. of ITERATIONS REACHED LIMIT.\n",
      "\n",
      "Increase the number of iterations (max_iter) or scale the data as shown in:\n",
      "    https://scikit-learn.org/stable/modules/preprocessing.html\n",
      "Please also refer to the documentation for alternative solver options:\n",
      "    https://scikit-learn.org/stable/modules/linear_model.html#logistic-regression\n",
      "  n_iter_i = _check_optimize_result(\n"
     ]
    },
    {
     "name": "stdout",
     "output_type": "stream",
     "text": [
      "Logistic Regression Cross-validation MSE: -7.16551724137931\n",
      "Random Forest Classifier Cross-validation MSE: -7.765517241379311\n",
      "Support Vector Machine Cross-validation MSE: -8.124137931034483\n"
     ]
    }
   ],
   "source": [
    "for model_name, model in models.items():\n",
    "    cv_scores = cross_val_score(model, X, y, cv=5, scoring='neg_mean_squared_error')\n",
    "    print(f\"{model_name} Cross-validation MSE: {np.mean(cv_scores)}\")"
   ]
  }
 ],
 "metadata": {
  "kernelspec": {
   "display_name": "Python 3",
   "language": "python",
   "name": "python3"
  },
  "language_info": {
   "codemirror_mode": {
    "name": "ipython",
    "version": 3
   },
   "file_extension": ".py",
   "mimetype": "text/x-python",
   "name": "python",
   "nbconvert_exporter": "python",
   "pygments_lexer": "ipython3",
   "version": "3.12.6"
  }
 },
 "nbformat": 4,
 "nbformat_minor": 2
}
